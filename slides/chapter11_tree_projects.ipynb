{
 "cells": [
  {
   "cell_type": "markdown",
   "metadata": {
    "slideshow": {
     "slide_type": "slide"
    }
   },
   "source": [
    "# Objectives\n",
    "* List the definitions of Heaps and B-Trees\n",
    "* modify a heap, with a reheapification\n",
    "* modify a B-tree (B\n",
    "* use a heap to implement a priority queue\n",
    "* use B-tree to implement a set class\n",
    "* STL: priority queue, heap, map, multimap\n",
    "* analyse time complexity of algorithms on different types of trees"
   ]
  },
  {
   "cell_type": "markdown",
   "metadata": {
    "slideshow": {
     "slide_type": "slide"
    }
   },
   "source": [
    "# Heap\n",
    "* Binary Tree with strict weak ordering of nodes:\n",
    "    *  parent_node.key $\\ge$ child_node.key\n",
    "\n",
    "* Adding elements:\n",
    "    1. place new entry oin first available slot to stay complete \n",
    "    2. swap new entry with parents until heap requirement is met\n",
    "    \n",
    "* Removing elements:\n",
    "    1. remove element with highest priority (may just be requested element)\n",
    "    2. move last leaf to spot where element was removed (so that tree structure is maintained)\n",
    "    3. swap with parent until heap requirement is met"
   ]
  },
  {
   "cell_type": "markdown",
   "metadata": {
    "slideshow": {
     "slide_type": "slide"
    }
   },
   "source": [
    "# Priority Queue as heap\n",
    "* node has indexing/weighing attribute\n",
    "* indexing/weighing is used for location in heap\n",
    "* queue processed based on on location in heap, root first\n",
    "\n",
    "* https://see.stanford.edu/materials/icspacs106b/h32-assign6pqueue.pdf"
   ]
  },
  {
   "cell_type": "markdown",
   "metadata": {
    "slideshow": {
     "slide_type": "slide"
    }
   },
   "source": [
    "# B-Trees\n",
    "* B-tree nodes have more than 2 children\n",
    "* each node contains more than one entry (literal value)\n",
    "* https://medium.com/basecs/busying-oneself-with-b-trees-78bbf10522e7"
   ]
  },
  {
   "cell_type": "markdown",
   "metadata": {
    "slideshow": {
     "slide_type": "slide"
    }
   },
   "source": [
    "## B-Tree Rules\n",
    "1. \\# root entries $\\geq$ 1\n",
    "2. `MINIMUM` $\\leq$ \\# node entries $\\leq$ 2*`MINIMUM`\n",
    "3. entries stored in partially filled, sorted smallest to largest\n",
    "4. \\# subtrees of node = 1 + \\# entries in node\n",
    "5. for non leaf nodes:\n",
    "    1. entry at index i $\\gt$ entries in subtree (i)\n",
    "    2.  entry at index i $\\lt$ entries in subtree (i+1)\n",
    "6. Balanced: every leaf in a B-Tree is at the same depth"
   ]
  },
  {
   "cell_type": "markdown",
   "metadata": {},
   "source": [
    "# B-Tree as Array:\n",
    "* Minimum: user defined smallest number of entries in node\n",
    "* root max: $2*Minimum$ entries, $1+2*Minimum$ subtrees\n",
    "* each entry has $1+2*Minimum$ subtrees (except leaves)\n",
    "* each subtree has 2*minimum entries\n",
    "* each subtree has (2*minimum + 1)*(2*minimum) subtrees\n",
    "* Total space at each depth d: $(2*Minimum+1)^{d} *(2*Minimum)$"
   ]
  },
  {
   "cell_type": "markdown",
   "metadata": {
    "slideshow": {
     "slide_type": "slide"
    }
   },
   "source": [
    "__Minimum = 1__\n",
    "![b-tree](figures/chap11/b-tree/b_tree01.png)"
   ]
  },
  {
   "cell_type": "markdown",
   "metadata": {},
   "source": [
    "# Sets\n",
    "* http://www.cs.colorado.edu/~main/projects/Assn1101-BTree.html\n",
    "* http://www.cs.colorado.edu/~main/chapter11/"
   ]
  },
  {
   "cell_type": "code",
   "execution_count": null,
   "metadata": {},
   "outputs": [],
   "source": []
  }
 ],
 "metadata": {
  "celltoolbar": "Slideshow",
  "kernelspec": {
   "display_name": "Python 3",
   "language": "python",
   "name": "python3"
  },
  "language_info": {
   "codemirror_mode": {
    "name": "ipython",
    "version": 3
   },
   "file_extension": ".py",
   "mimetype": "text/x-python",
   "name": "python",
   "nbconvert_exporter": "python",
   "pygments_lexer": "ipython3",
   "version": "3.6.7"
  },
  "latex_envs": {
   "LaTeX_envs_menu_present": true,
   "autoclose": false,
   "autocomplete": true,
   "bibliofile": "biblio.bib",
   "cite_by": "apalike",
   "current_citInitial": 1,
   "eqLabelWithNumbers": true,
   "eqNumInitial": 1,
   "hotkeys": {
    "equation": "Ctrl-E",
    "itemize": "Ctrl-I"
   },
   "labels_anchors": false,
   "latex_user_defs": false,
   "report_style_numbering": false,
   "user_envs_cfg": false
  },
  "varInspector": {
   "cols": {
    "lenName": 16,
    "lenType": 16,
    "lenVar": 40
   },
   "kernels_config": {
    "python": {
     "delete_cmd_postfix": "",
     "delete_cmd_prefix": "del ",
     "library": "var_list.py",
     "varRefreshCmd": "print(var_dic_list())"
    },
    "r": {
     "delete_cmd_postfix": ") ",
     "delete_cmd_prefix": "rm(",
     "library": "var_list.r",
     "varRefreshCmd": "cat(var_dic_list()) "
    }
   },
   "types_to_exclude": [
    "module",
    "function",
    "builtin_function_or_method",
    "instance",
    "_Feature"
   ],
   "window_display": false
  }
 },
 "nbformat": 4,
 "nbformat_minor": 2
}
