{
 "cells": [
  {
   "cell_type": "markdown",
   "metadata": {
    "slideshow": {
     "slide_type": "slide"
    }
   },
   "source": [
    "# Chapter 15: Graphs"
   ]
  },
  {
   "cell_type": "markdown",
   "metadata": {
    "slideshow": {
     "slide_type": "slide"
    }
   },
   "source": [
    "# Objectives\n",
    "* follow and explain graph based algorithms\n",
    "* design and implement classes for labeled or unlabled graphs\n",
    "* understand breadth-first and depth-first graph traversals\n",
    "* understand simple path algorithms and Dijkstra's algorithm"
   ]
  },
  {
   "cell_type": "markdown",
   "metadata": {
    "slideshow": {
     "slide_type": "slide"
    }
   },
   "source": [
    "# Undirected Graph\n",
    "```\n",
    "        (node 1)-- (node 2)--\\\n",
    "            |    \\     |      (node 5)   (node 6)\n",
    "        (node 3) --(node 4)--/\n",
    "```     "
   ]
  },
  {
   "cell_type": "markdown",
   "metadata": {
    "slideshow": {
     "slide_type": "slide"
    }
   },
   "source": [
    "# Undirected Graph\n",
    "* finite set of vertices (nodes) + finite set of edges \n",
    "* empty graph: no vertices + no edges\n",
    "* edge connects two vertices \n",
    "* __order of connection does not matter__\n",
    "    + edge connects 1 and 2 == edge connects 2 and 1"
   ]
  },
  {
   "cell_type": "markdown",
   "metadata": {
    "slideshow": {
     "slide_type": "slide"
    }
   },
   "source": [
    "# Directed Graph\n",
    "```\n",
    "        (node 1)--> (node 2)<--\\ \n",
    "            ^           ^       \\\n",
    "            |           |        (node 5)\n",
    "        (node 3)<-->(node 4) <--/\n",
    "```  "
   ]
  },
  {
   "cell_type": "markdown",
   "metadata": {
    "slideshow": {
     "slide_type": "slide"
    }
   },
   "source": [
    "# Directed Graph\n",
    "* finite set of vertices (nodes) + finite set of edges \n",
    "* empty graph: no vertices + no edges\n",
    "* edge connects __source__ vertex to __target__ vertex\n",
    "* __order of connection matters__\n",
    "    + edge connects 1 and 2 != edge connects 2 and 1"
   ]
  },
  {
   "cell_type": "markdown",
   "metadata": {
    "slideshow": {
     "slide_type": "slide"
    }
   },
   "source": [
    "# Graph Terminology:\n",
    "* __loops__:  edge that connects vertex to itself\n",
    "```\n",
    "        (node 1) --\\\n",
    "            ^------/\n",
    "```\n",
    "* __path__: sequence of vertices and edges to get from one node to another node. \n",
    "```\n",
    "    (node 1) -e1-> (node 2) -e2-> (node 3)\n",
    "```\n",
    "path: n1, n2, n3\n",
    "\n",
    "* __multiple edges__: 2+ edges connecting the same nodes in the same direction\n",
    "```\n",
    "            \n",
    "    (node 1)----(node 2)\n",
    "       |___________|\n",
    "```"
   ]
  },
  {
   "cell_type": "markdown",
   "metadata": {
    "slideshow": {
     "slide_type": "slide"
    }
   },
   "source": [
    "# Simple Graphs\n",
    "+ no loops\n",
    "+ no multiple edges"
   ]
  },
  {
   "cell_type": "markdown",
   "metadata": {
    "slideshow": {
     "slide_type": "slide"
    }
   },
   "source": [
    "# Adjacency Matrix\n",
    "\n",
    "Use a matrix to represent a graph. \n",
    "\n",
    "In a matrix representation, nodes are the rows and columns of the matrix, and edges are marked with a 1 or their weight. The matrix values usually default to 0.\n",
    "\n",
    "```\n",
    "( node 1 ) ---------( node 2)\n",
    "         \\          /\n",
    "          ( node 3 )\n",
    "```"
   ]
  },
  {
   "cell_type": "markdown",
   "metadata": {
    "slideshow": {
     "slide_type": "slide"
    }
   },
   "source": [
    "## Undirected Adjaceny Matrix\n",
    "|  <br/>| node 1 | node 2 | node 3 |\n",
    "|-------|--------| -------| -------|\n",
    "|node 1 |    0   |    1   |    1   |\n",
    "|node 2 |    1   |    0   |    1   |  \n",
    "|node 3 |    1   |    1   |    0   |"
   ]
  },
  {
   "cell_type": "markdown",
   "metadata": {
    "slideshow": {
     "slide_type": "slide"
    }
   },
   "source": [
    "## Directed Adjacency Matrix\n",
    "+ Mark a 1 for all source to target transitions.\n",
    "+ Rows = sources, columns=targets\n",
    "\n",
    "|  <br/>| node 1 | node 2 | node 3 |\n",
    "|-------|--------| -------| -------|\n",
    "|node 1 |    0   |    1   |    0   |\n",
    "|node 2 |    0   |    0   |    1   |  \n",
    "|node 3 |    1   |    0   |    0   |"
   ]
  },
  {
   "cell_type": "markdown",
   "metadata": {
    "slideshow": {
     "slide_type": "slide"
    }
   },
   "source": [
    "Programming Problem:\n",
    "Shared Classes:\n",
    " Program the adjaceny matrix amongst the students in the class:\n",
    " * +1 for every shared class (besides this one)\n",
    " * 0 if you don't share a class\n",
    " * part 2: share you graph on gitter so other students can add- use gists to post code\n",
    " https://gist.github.com/\n",
    " * question: who is the most connected student?\n",
    "\n",
    "Code up the CS department curriculum grid \n",
    "\n",
    "* Vertices: CS major classes\n",
    "* Edges: source is prerequiste of target\n",
    "\n"
   ]
  },
  {
   "cell_type": "markdown",
   "metadata": {
    "slideshow": {
     "slide_type": "slide"
    }
   },
   "source": [
    "# Class based implementation\n",
    "```c++\n",
    "template <class Item>\n",
    "    class graph\n",
    "    {\n",
    "    public:\n",
    "    //\n",
    "    private:\n",
    "        bool edges[MAXIMUM][MAXIMUM];\n",
    "        Item labels[MAXIMUM]; // this is how we store information in the graph\n",
    "        std::size_t many_vertices;\n",
    "    };\n",
    "```"
   ]
  },
  {
   "cell_type": "markdown",
   "metadata": {
    "slideshow": {
     "slide_type": "slide"
    }
   },
   "source": [
    "# Overloading the Subscript [] operator\n",
    "```cpp\n",
    "template <class Item>\n",
    "    Item& graph<Item>::operator[ ] (std::size_t vertex)\n",
    "    // Library facilities used: cassert, cstdlib\n",
    "    {\n",
    "        assert(vertex < size( ));\n",
    "        return labels[vertex];     // Returns a reference to the label\n",
    "    }\n",
    "```"
   ]
  },
  {
   "cell_type": "markdown",
   "metadata": {
    "slideshow": {
     "slide_type": "slide"
    }
   },
   "source": [
    "# What's different here?\n",
    "```cpp\n",
    " template <class Item>\n",
    "    Item graph<Item>::operator[ ] (std::size_t vertex) const\n",
    "    // Library facilities used: cassert, cstdlib\n",
    "    {\n",
    "        assert(vertex < size( ));\n",
    "        return labels[vertex];     // Returns only a copy of the label\n",
    "    }\n",
    "```"
   ]
  },
  {
   "cell_type": "markdown",
   "metadata": {
    "slideshow": {
     "slide_type": "slide"
    }
   },
   "source": [
    "# Why graphs? Networks!\n",
    "  ```cpp\n",
    " template <class Item>\n",
    "    std::set<std::size_t> graph<Item>::neighbors(std::size_t vertex) const\n",
    "    // Library facilities used: cassert, cstdlib, set\n",
    "    {\n",
    "        std::set<std::size_t> answer;\n",
    "        std::size_t i;\n",
    "\n",
    "        assert(vertex < size( ));\n",
    "\n",
    "        for (i = 0; i < size( ); ++i)\n",
    "        {\n",
    "            if (edges[vertex][i])\n",
    "                answer.insert(i);\n",
    "        }\n",
    "        return answer;\n",
    "    }\n",
    "```"
   ]
  },
  {
   "cell_type": "markdown",
   "metadata": {
    "slideshow": {
     "slide_type": "slide"
    }
   },
   "source": [
    "# Programming Project:\n",
    "Code up the CS department curriculum grid \n",
    "code: http://www.cs.colorado.edu/~main/chapter15/\n",
    "\n",
    "* labels: CS major classes\n",
    "* edges: source is prerequiste of target \n",
    "\n",
    "Add label based indexing for:\n",
    "* add_edge\n",
    "* neighbors search"
   ]
  },
  {
   "cell_type": "code",
   "execution_count": null,
   "metadata": {},
   "outputs": [],
   "source": []
  }
 ],
 "metadata": {
  "celltoolbar": "Slideshow",
  "kernelspec": {
   "display_name": "C++17",
   "language": "C++17",
   "name": "xeus-cling-cpp17"
  },
  "language_info": {
   "codemirror_mode": "text/x-c++src",
   "file_extension": ".cpp",
   "mimetype": "text/x-c++src",
   "name": "c++",
   "version": "-std=c++17"
  },
  "latex_envs": {
   "LaTeX_envs_menu_present": true,
   "autoclose": false,
   "autocomplete": true,
   "bibliofile": "biblio.bib",
   "cite_by": "apalike",
   "current_citInitial": 1,
   "eqLabelWithNumbers": true,
   "eqNumInitial": 1,
   "hotkeys": {
    "equation": "Ctrl-E",
    "itemize": "Ctrl-I"
   },
   "labels_anchors": false,
   "latex_user_defs": false,
   "report_style_numbering": false,
   "user_envs_cfg": false
  }
 },
 "nbformat": 4,
 "nbformat_minor": 2
}
