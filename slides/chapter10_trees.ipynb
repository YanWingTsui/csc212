{
 "cells": [
  {
   "cell_type": "markdown",
   "metadata": {
    "slideshow": {
     "slide_type": "slide"
    }
   },
   "source": [
    "# Chapter 10: Trees"
   ]
  },
  {
   "cell_type": "markdown",
   "metadata": {
    "slideshow": {
     "slide_type": "slide"
    }
   },
   "source": [
    "# Objectives\n",
    "* follow and explain tree based algorithms\n",
    "* design and implement binary trees and other types of trees\n",
    "* list & implement binary tree traversal algorithms:\n",
    "    * in order\n",
    "    * pre order\n",
    "    * post order\n",
    "* determine the requirements for a binary tree search\n",
    "* implement searches, insertions, and removals on a binary search tree"
   ]
  },
  {
   "cell_type": "markdown",
   "metadata": {
    "slideshow": {
     "slide_type": "slide"
    }
   },
   "source": [
    "![trees xkcd image](figures/chap10/tree.png)"
   ]
  },
  {
   "cell_type": "markdown",
   "metadata": {
    "slideshow": {
     "slide_type": "slide"
    }
   },
   "source": [
    "# Task\n",
    "Draw a tree that contains members of your family. The root should contain your mother’s mother. Her children nodes contain her actual children, and those nodes contain her children’s children, and so on."
   ]
  },
  {
   "cell_type": "markdown",
   "metadata": {
    "slideshow": {
     "slide_type": "slide"
    }
   },
   "source": [
    "# Binary Trees\n",
    "+ __root__ : node at top of tree\n",
    "   + cannot be a __child__ node of any other node\n",
    "   + does not have a __parent__ node\n",
    "   \n",
    "![](figures/chap10/tree_s/tree0.png?arg)"
   ]
  },
  {
   "cell_type": "markdown",
   "metadata": {
    "slideshow": {
     "slide_type": "slide"
    }
   },
   "source": [
    "  # Binary Trees\n",
    "  + __parent node__: node in tree, has at most two nodes attached to it at the next level\n",
    "       + __left child__ : left linked node\n",
    "       + __right child__ : right linked node\n",
    "   + __sibling nodes__: left & right children of the same parent node\n",
    "   ![](figures/chap10/tree_s/tree2.png?arg)"
   ]
  },
  {
   "cell_type": "markdown",
   "metadata": {
    "slideshow": {
     "slide_type": "slide"
    }
   },
   "source": [
    "# Binary Trees\n",
    "* __depth__ : number of generations (parent/child chains) to reach node (including node). \n",
    "    * __root__ is depth = 0\n",
    "  ![](figures/chap10/tree_s/tree1.png)\n",
    "%%% flip right/left, annotate sub tree /add sub tree slide"
   ]
  },
  {
   "cell_type": "markdown",
   "metadata": {
    "slideshow": {
     "slide_type": "slide"
    }
   },
   "source": [
    "# Binary Trees: Subtrees\n",
    "Any node in a tree is also the __root__ node of a smaller tree containing the node and all its child nodes (and all their child nodes, down to the leaf).\n",
    " ![](figures/chap10/tree_s/tree3.png)"
   ]
  },
  {
   "cell_type": "markdown",
   "metadata": {
    "slideshow": {
     "slide_type": "fragment"
    }
   },
   "source": [
    "# Binary Tree Constraints\n",
    "* A tree is a finite set of nodes. \n",
    "* The set might be empty (no nodes, which is called the empty tree). \n",
    "* If the set is not empty, then it must follow these rules:\n",
    "   1. There is one special node, called the root.\n",
    "   2. Each node may be associated with one or more different nodes, called its children. If a node c is the child of another node p, then we say that “p is c’s parent.”\n",
    "   3. Each node except the root has exactly one parent; the root has no parent.\n",
    "   4. If you start at any node and move to the node’s parent (provided there is one), then move again to that node’s parent (provided there is one), and keep moving upward to each node’s parent, you will eventually reach the root."
   ]
  },
  {
   "cell_type": "markdown",
   "metadata": {
    "slideshow": {
     "slide_type": "slide"
    }
   },
   "source": [
    "# Binary Tree Definitions\n",
    "__full tree__: every leaf has same depth, every non leaf has 2 children\n",
    "![](figures/chap10/tree_s/full_binary_tree.png)\n",
    "source: Data Structures and Other Objects Using C++, Fourth Edition, Michael Main and Walter Savitch "
   ]
  },
  {
   "cell_type": "markdown",
   "metadata": {
    "slideshow": {
     "slide_type": "slide"
    }
   },
   "source": [
    "# Binary Tree Definitions\n",
    "__complete__: every level *except the deepest* must contain as many nodes as possible, at deepest level nodes must be as left as possible (no gaps in available slots between leaves) \n",
    "![](figures/chap10/tree_s/complete_nfull.png)\n",
    "source: Data Structures and Other Objects Using C++, Fourth Edition, Michael Main and Walter Savitch "
   ]
  },
  {
   "cell_type": "markdown",
   "metadata": {
    "slideshow": {
     "slide_type": "slide"
    }
   },
   "source": [
    "# Is this tree full? complete?\n",
    "![](figures/chap10/tree_s/nfull_ncomplete.png)"
   ]
  },
  {
   "cell_type": "markdown",
   "metadata": {
    "slideshow": {
     "slide_type": "slide"
    }
   },
   "source": [
    "# Balanced Binary Trees\n",
    "* __height balanced__: for any two leaves, difference in height is at most n (usually 1)\n",
    "![](figures/chap10/tree_s/nfull_ncomplete.png)!"
   ]
  },
  {
   "cell_type": "markdown",
   "metadata": {
    "slideshow": {
     "slide_type": "slide"
    }
   },
   "source": [
    "# Balanced Binary Trees\n",
    "* __weight balanced__: left and right subtrees of each node differ by at most n (usually 1) node. \n",
    "![](figures/chap10/tree_s/full_binary_tree.png)"
   ]
  },
  {
   "cell_type": "markdown",
   "metadata": {},
   "source": [
    "# Are these trees height balanced? weight balanced?\n",
    "Count the empty tree as a subtree with 0 nodes when answering this question.\n",
    "![](figures/chap10/tree_s/complete_nfull.png)\n",
    "![](figures/chap10/tree_s/nfull_ncomplete.png)!"
   ]
  },
  {
   "cell_type": "markdown",
   "metadata": {
    "slideshow": {
     "slide_type": "slide"
    }
   },
   "source": [
    "# To Do\n",
    "1. Draw a binary tree with 12 nodes. Circle the root, and put asterisks at each leaf. Find two nodes that are siblings, and connect them with a wiggly\n",
    "line. Choose one of the leaves, and shade all of its ancestors.\n",
    "\n",
    "\n",
    "\n"
   ]
  },
  {
   "cell_type": "markdown",
   "metadata": {
    "slideshow": {
     "slide_type": "slide"
    }
   },
   "source": [
    "# Tree Traversal: \n",
    "* start at a node and move up node’s parents (provided there is one), must reach __root__\n",
    "    + __ancestor__: reachable by going up the tree from the node\n",
    "    + __descendant__: reachable by going down the treen from the node\n",
    "    \n",
    "* __pre-order__: root processed *pre*vious to subtrees \n",
    "    + *root* -> left subtree -> right subtree \n",
    "* __post-order__: root processing *post*poned to after subtrees\n",
    "    + left subtree -> right subtree -> *root*\n",
    "* __in-order__: root processed *in*between subtrees\n",
    "    + left subtree -> *root* -> right subtree\n",
    "    \n",
    "animated: https://austingwalters.com/binary-trees-traversals-everyday-algorithms/"
   ]
  },
  {
   "cell_type": "markdown",
   "metadata": {
    "slideshow": {
     "slide_type": "slide"
    }
   },
   "source": [
    "# Binary Search Tree Rules\n",
    "* Entry in node n is $\\ge$ every entry in *left* subtree\n",
    "* Entry in node n is $\\lt$ every entry in *right* subtree\n",
    "\n",
    "%%% add picture of binary tree"
   ]
  },
  {
   "cell_type": "markdown",
   "metadata": {
    "slideshow": {
     "slide_type": "slide"
    }
   },
   "source": [
    "# Summary\n",
    "* Trees are non-linear\n",
    "* Trees can be implemented as static/dynamic arrays or using linked nodes\n",
    "* tree traversal is the method of processing the nodes in a tree:\n",
    "    + pre-order, post-order, in-order\n",
    "* Binary search trees (and derivatives) are a common application of trees. BSTs store data in an ordered manner, facilitating quicker insertion, deletion, & searching. \n",
    "* trees lend themselves to recursive operations because of the root->leaf structure"
   ]
  },
  {
   "cell_type": "markdown",
   "metadata": {
    "slideshow": {
     "slide_type": "slide"
    }
   },
   "source": [
    "# Project: Bag 6 (BST)\n",
    "* http://www.cs.colorado.edu/~main/chapter10/bag6.h\n",
    "* http://www.cs.colorado.edu/~main/chapter10/bag6.template\n",
    "* http://www.cs.colorado.edu/~main/chapter10/bagtest.cxx\n",
    "* http://www.cs.colorado.edu/~main/chapter10/bintree.h\n",
    "* http://www.cs.colorado.edu/~main/chapter10/bintree.template"
   ]
  },
  {
   "cell_type": "markdown",
   "metadata": {
    "slideshow": {
     "slide_type": "slide"
    }
   },
   "source": [
    "* changes to tree often mean reblanacing tree to maintain bst requirements, which means that the root_ptr moves to root of new smaller tree\n",
    "* `void insert` - insert target so tree remains a bst\n",
    "* `void insert_all` - add all elements in target tree to current tree\n",
    "* `typename count` - count occurances of target\n",
    "* `void bst_remove_max` - remove largest element in tree(pg 507 of textbook)\n",
    "* `bool bst_remove` - remove target value, return true if target was in tree\n",
    "* `typename bst_remove_all` - delete all copies of a target, return count of how many were deleted\n",
    " "
   ]
  }
 ],
 "metadata": {
  "celltoolbar": "Slideshow",
  "kernelspec": {
   "display_name": "C++17",
   "language": "C++17",
   "name": "xeus-cling-cpp17"
  },
  "language_info": {
   "codemirror_mode": "text/x-c++src",
   "file_extension": ".cpp",
   "mimetype": "text/x-c++src",
   "name": "c++",
   "version": "-std=c++17"
  },
  "latex_envs": {
   "LaTeX_envs_menu_present": true,
   "autoclose": false,
   "autocomplete": true,
   "bibliofile": "biblio.bib",
   "cite_by": "apalike",
   "current_citInitial": 1,
   "eqLabelWithNumbers": true,
   "eqNumInitial": 1,
   "hotkeys": {
    "equation": "Ctrl-E",
    "itemize": "Ctrl-I"
   },
   "labels_anchors": false,
   "latex_user_defs": false,
   "report_style_numbering": false,
   "user_envs_cfg": true
  },
  "varInspector": {
   "cols": {
    "lenName": 16,
    "lenType": 16,
    "lenVar": 40
   },
   "kernels_config": {
    "python": {
     "delete_cmd_postfix": "",
     "delete_cmd_prefix": "del ",
     "library": "var_list.py",
     "varRefreshCmd": "print(var_dic_list())"
    },
    "r": {
     "delete_cmd_postfix": ") ",
     "delete_cmd_prefix": "rm(",
     "library": "var_list.r",
     "varRefreshCmd": "cat(var_dic_list()) "
    }
   },
   "types_to_exclude": [
    "module",
    "function",
    "builtin_function_or_method",
    "instance",
    "_Feature"
   ],
   "window_display": false
  }
 },
 "nbformat": 4,
 "nbformat_minor": 2
}
